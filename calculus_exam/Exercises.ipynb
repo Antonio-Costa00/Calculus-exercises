{
 "cells": [
  {
   "cell_type": "markdown",
   "metadata": {},
   "source": [
    "# Cálculo Numérico - Avaliação - 01\n"
   ]
  },
  {
   "cell_type": "markdown",
   "metadata": {},
   "source": [
    "## Exercícıcio 00"
   ]
  },
  {
   "cell_type": "code",
   "execution_count": 1,
   "metadata": {},
   "outputs": [],
   "source": [
    "from fractions import Fraction\n",
    "from pprint import pprint\n",
    "from sympy import *\n",
    "import numpy as np"
   ]
  },
  {
   "cell_type": "markdown",
   "metadata": {},
   "source": [
    "### Calculando matriz de Hilbert de ordem 4"
   ]
  },
  {
   "cell_type": "code",
   "execution_count": 2,
   "metadata": {},
   "outputs": [
    {
     "name": "stdout",
     "output_type": "stream",
     "text": [
      "Matriz de Hilbert ordem 4:\n"
     ]
    },
    {
     "data": {
      "text/plain": [
       "[['1', '1/2', '1/3', '1/4'],\n",
       " ['1/2', '1/3', '1/4', '1/5'],\n",
       " ['1/3', '1/4', '1/5', '1/6'],\n",
       " ['1/4', '1/5', '1/6', '1/7']]"
      ]
     },
     "execution_count": 2,
     "metadata": {},
     "output_type": "execute_result"
    }
   ],
   "source": [
    "def Hilbert_matrix_string(a, b):\n",
    "    return [[str(Fraction(1 / (i + j + 1)).limit_denominator()) for j in range(b)] for i in range(a)]\n",
    "\n",
    "\n",
    "Hilbert_order_4_matrix = Hilbert_matrix_string(4,4)\n",
    "print(\"Matriz de Hilbert ordem 4:\")\n",
    "Hilbert_order_4_matrix"
   ]
  },
  {
   "cell_type": "markdown",
   "metadata": {},
   "source": [
    "### Calculando matriz inversa"
   ]
  },
  {
   "cell_type": "code",
   "execution_count": 3,
   "metadata": {},
   "outputs": [
    {
     "name": "stdout",
     "output_type": "stream",
     "text": [
      "Matriz inversa de Hilbert de ordem 4:\n"
     ]
    },
    {
     "data": {
      "text/plain": [
       "array([[   16.,  -120.,   240.,  -140.],\n",
       "       [ -120.,  1200., -2700.,  1680.],\n",
       "       [  240., -2700.,  6480., -4200.],\n",
       "       [ -140.,  1680., -4200.,  2800.]])"
      ]
     },
     "execution_count": 3,
     "metadata": {},
     "output_type": "execute_result"
    }
   ],
   "source": [
    "def Hilbert_matrix_array(a, b):\n",
    "    return np.array([[Fraction(1 / (i + j + 1)).limit_denominator() for j in range(b)] for i in range(a)])\n",
    "\n",
    "hilbert_matrix_array_order_4 = Hilbert_matrix_array(4,4).astype('float64')\n",
    "Hilbert_inverse_matrix_array_order_4 = np.linalg.inv(hilbert_matrix_array_order_4)\n",
    "print(\"Matriz inversa de Hilbert de ordem 4:\")\n",
    "Hilbert_inverse_matrix_array_order_4"
   ]
  },
  {
   "cell_type": "markdown",
   "metadata": {},
   "source": [
    "### Descrevendo vetor solução usando pinv (pseudo-inverse) function"
   ]
  },
  {
   "cell_type": "code",
   "execution_count": 4,
   "metadata": {},
   "outputs": [
    {
     "name": "stdout",
     "output_type": "stream",
     "text": [
      "O vetor solucao é dado por:\n"
     ]
    },
    {
     "data": {
      "text/plain": [
       "[-11719.999999997157,\n",
       " 142199.99999996758,\n",
       " -357899.99999992223,\n",
       " 239679.9999999497]"
      ]
     },
     "execution_count": 4,
     "metadata": {},
     "output_type": "execute_result"
    }
   ],
   "source": [
    "pinv = np.linalg.pinv(hilbert_matrix_array_order_4)\n",
    "b = [0 ,1, 10, 100]\n",
    "solution_vector = pinv.dot(b)\n",
    "print(\"O vetor solucao é dado por:\")\n",
    "solution_vector.tolist()"
   ]
  },
  {
   "cell_type": "markdown",
   "metadata": {},
   "source": [
    "# Exercício 01"
   ]
  },
  {
   "cell_type": "code",
   "execution_count": 49,
   "metadata": {},
   "outputs": [
    {
     "name": "stdout",
     "output_type": "stream",
     "text": [
      "Equation:\n"
     ]
    },
    {
     "data": {
      "text/latex": [
       "$\\displaystyle - 52.32 x - 572.373333333333 e^{0.1875 x} + 672.373333333333$"
      ],
      "text/plain": [
       "-52.32*x - 572.373333333333*exp(0.1875*x) + 672.373333333333"
      ]
     },
     "execution_count": 49,
     "metadata": {},
     "output_type": "execute_result"
    }
   ],
   "source": [
    "symbols('x')\n",
    "\n",
    "g = 9.81; y0 =100;  v0 = 55; m = 80; c = 15\n",
    "y =( y0 + (m / c) * (v0 + m * g / c) * (1 - exp((c / m) * x)) - (m * g / c) * x)\n",
    "print('Equation:')\n",
    "y\n"
   ]
  },
  {
   "cell_type": "markdown",
   "metadata": {},
   "source": [
    "## Altura maxima de xm é dada para y'(x) = 0"
   ]
  },
  {
   "cell_type": "code",
   "execution_count": 36,
   "metadata": {},
   "outputs": [],
   "source": [
    "solve(y)"
   ]
  }
 ],
 "metadata": {
  "interpreter": {
   "hash": "e7370f93d1d0cde622a1f8e1c04877d8463912d04d973331ad4851f04de6915a"
  },
  "kernelspec": {
   "display_name": "Python 3.8.10 64-bit",
   "name": "python3"
  },
  "language_info": {
   "codemirror_mode": {
    "name": "ipython",
    "version": 3
   },
   "file_extension": ".py",
   "mimetype": "text/x-python",
   "name": "python",
   "nbconvert_exporter": "python",
   "pygments_lexer": "ipython3",
   "version": "3.8.10"
  },
  "orig_nbformat": 4
 },
 "nbformat": 4,
 "nbformat_minor": 2
}
