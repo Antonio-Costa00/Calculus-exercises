{
 "cells": [
  {
   "cell_type": "markdown",
   "metadata": {},
   "source": [
    "# <center><span style=\"color:red\">**Cálculo Numérico - Avaliação 01**</span><br/></center>\n"
   ]
  },
  {
   "cell_type": "markdown",
   "metadata": {},
   "source": [
    "# <center><font color='purple'>**Installing dependencies**</font></center>"
   ]
  },
  {
   "cell_type": "markdown",
   "metadata": {},
   "source": [
    "## <font color='orange'>**To install dependencies, run this cell**</font>"
   ]
  },
  {
   "cell_type": "code",
   "execution_count": null,
   "metadata": {},
   "outputs": [],
   "source": [
    "!pip install -r requirements.txt"
   ]
  },
  {
   "cell_type": "markdown",
   "metadata": {},
   "source": [
    "## <font color='orange'>**Importing dependencies**</font>"
   ]
  },
  {
   "cell_type": "markdown",
   "metadata": {},
   "source": [
    "### <font color='#0f3f21'> **To import dependencies, run this cell** </font>"
   ]
  },
  {
   "cell_type": "code",
   "execution_count": null,
   "metadata": {},
   "outputs": [],
   "source": [
    "from fractions import Fraction\n",
    "from sympy import *\n",
    "import numpy as np\n",
    "import matplotlib.pyplot as plt"
   ]
  },
  {
   "cell_type": "markdown",
   "metadata": {},
   "source": [
    "# <center><span style=\"color:green\">**Exercício  00**</span><br/></center>\n"
   ]
  },
  {
   "cell_type": "markdown",
   "metadata": {},
   "source": [
    "### <center><span style=\"color:blue\">Calculando matriz de Hilbert de ordem 4</span><br/></center>"
   ]
  },
  {
   "cell_type": "code",
   "execution_count": null,
   "metadata": {},
   "outputs": [],
   "source": [
    "def Hilbert_matrix_string(a, b):\n",
    "    return [[str(Fraction(1 / (i + j + 1)).limit_denominator()) for j in range(b)] for i in range(a)]\n",
    "\n",
    "Hilbert_order_4_matrix = Hilbert_matrix_string(4,4)\n",
    "print(\"Matriz de Hilbert ordem 4:\")\n",
    "Hilbert_order_4_matrix"
   ]
  },
  {
   "cell_type": "markdown",
   "metadata": {},
   "source": [
    "### <center><span style=\"color:blue\">Calculando matriz inversa</span><br/></center>"
   ]
  },
  {
   "cell_type": "code",
   "execution_count": null,
   "metadata": {},
   "outputs": [],
   "source": [
    "def Hilbert_matrix_array(a, b):\n",
    "    return np.array([[Fraction(1 / (i + j + 1)).limit_denominator() for j in range(b)] for i in range(a)])\n",
    "\n",
    "hilbert_matrix_array_order_4 = Hilbert_matrix_array(4,4).astype('float64')\n",
    "Hilbert_inverse_matrix_array_order_4 = np.linalg.inv(hilbert_matrix_array_order_4)\n",
    "print(\"\\n\\nMatriz inversa de Hilbert de ordem 4:\")\n",
    "Hilbert_inverse_matrix_array_order_4"
   ]
  },
  {
   "cell_type": "markdown",
   "metadata": {},
   "source": [
    "### <center><span style=\"color:blue\">Descrevendo vetor solução usando pinv (pseudo-inverse) function</span><br/></center>"
   ]
  },
  {
   "cell_type": "code",
   "execution_count": null,
   "metadata": {},
   "outputs": [],
   "source": [
    "pinv = np.linalg.pinv(hilbert_matrix_array_order_4)\n",
    "b = [0 ,1, 10, 100]\n",
    "solution_vector = pinv.dot(b)\n",
    "print(\"O vetor solucao é dado por:\")\n",
    "solution_vector.tolist()"
   ]
  },
  {
   "cell_type": "markdown",
   "metadata": {},
   "source": [
    "# <center><span style=\"color:green\">**Exercício 01 parte a - Calculando xm para altura máxima**</span><br/></center>"
   ]
  },
  {
   "cell_type": "code",
   "execution_count": null,
   "metadata": {},
   "outputs": [],
   "source": [
    "x = symbols('x')\n",
    "\n",
    "g, y0, v0, m, c = 9.81, 100, 55, 80, 15\n",
    "y = y0 + (m / c) * (v0 + ((m * g) / c)) * (1 - exp(- (c / m) * x)) - ((m * g) / c) * x\n",
    "print('Equacao:')\n",
    "y"
   ]
  },
  {
   "cell_type": "markdown",
   "metadata": {},
   "source": [
    "### Altura maxima de xm é dada para y'(x) = 0"
   ]
  },
  {
   "cell_type": "code",
   "execution_count": null,
   "metadata": {},
   "outputs": [],
   "source": [
    "y_diff = diff(y)\n",
    "print(\"y(x)' = \", y_diff)\n",
    "print(\"Calculando y(x)'= 0, resulta em xm, em metros, com o valor de\")\n",
    "solve(y_diff)[0]"
   ]
  },
  {
   "cell_type": "markdown",
   "metadata": {},
   "source": [
    "# <center><span style=\"color:green\">**Parte b - Calculando x para y(x) = 0**</span><br/></center>"
   ]
  },
  {
   "cell_type": "code",
   "execution_count": null,
   "metadata": {},
   "outputs": [],
   "source": [
    "print(\"Valor de y(x) = 0: \")\n",
    "solve(y, rational = False)[0]"
   ]
  },
  {
   "cell_type": "markdown",
   "metadata": {},
   "source": [
    "### <center><span style=\"color:blue\">O processo deve ser iterativo, pois a equacao -52.32 * x + 672.373333333333 - 572.373333333333 * exp(-0.1875 * x) = 0 nao possui uma fórmula simples para resolucao da equacao.</span><br/></center>"
   ]
  },
  {
   "cell_type": "code",
   "execution_count": null,
   "metadata": {},
   "outputs": [],
   "source": [
    "def Jacobian(v_str, f_list):\n",
    "    vars = symbols(v_str)\n",
    "    f = sympify(f_list)\n",
    "    J = zeros(len(f),len(vars))\n",
    "    for i, fi in enumerate(f):\n",
    "        for j, s in enumerate(vars):\n",
    "            J[i,j] = diff(fi, s)\n",
    "    return J"
   ]
  },
  {
   "cell_type": "markdown",
   "metadata": {},
   "source": [
    "# <center><span style=\"color:green\">**Exercicio 02 parte a - Resolvendo o primeiro sistema de equacoes**</span><br/></center>"
   ]
  },
  {
   "cell_type": "code",
   "execution_count": null,
   "metadata": {},
   "outputs": [],
   "source": [
    "x, y = symbols('x y')\n",
    "f1 = x**2 + y**2\n",
    "f2 = -exp(x) + y\n",
    "print(\"Usando como chute inicial o par (I,I), pois a equacao nao possui solucoes reais, por conta de x² + y² = 0 possuir solucoes complexas, a solucao é dada por:\")\n",
    "nsolve((f1, f2), (x, y), (I, I))\n"
   ]
  },
  {
   "cell_type": "code",
   "execution_count": null,
   "metadata": {},
   "outputs": [],
   "source": [
    "print(\"Matriz Jacobiana do sistema:\")\n",
    "Jacobian('x y',['x**2 + y**2', '-exp(x) + y'])"
   ]
  },
  {
   "cell_type": "code",
   "execution_count": null,
   "metadata": {},
   "outputs": [],
   "source": [
    "x = [1,2,3,4]\n",
    "\n",
    "y = [1, -1.33,-2.77,-3.233]\n",
    " \n",
    "plt.plot(x, y)\n",
    " \n",
    "plt.xlabel('Iteracoes')\n",
    "\n",
    "plt.ylabel('Valores da raíz')\n",
    " \n",
    "plt.title('Gráfico relacionando vetor solucao x X i')\n",
    "\n",
    "plt.show()"
   ]
  },
  {
   "cell_type": "markdown",
   "metadata": {},
   "source": [
    "# <center><span style=\"color:green\">**Parte b - Mostrando que o segundo sistema de equacoes possui infinitas solucoes**</span><br/></center>"
   ]
  },
  {
   "cell_type": "code",
   "execution_count": null,
   "metadata": {},
   "outputs": [],
   "source": [
    "print(\"Matriz Jacobiana do sistema:\")\n",
    "jacobian_matrix = Jacobian('x y', ['-exp(x) + y','-sin(x) + y'])\n",
    "jacobian_matrix"
   ]
  },
  {
   "cell_type": "code",
   "execution_count": null,
   "metadata": {},
   "outputs": [],
   "source": [
    "delta = 0.025\n",
    "x, y = np.meshgrid(np.arange(-50, 4, delta),np.arange(-1, 1, delta))\n",
    "\n",
    "plt.contour(x, y,- np.sin(x) + y, [0]\n",
    ")\n",
    "plt.contour(x, y, -np.exp(x) + y, [0])\n",
    "plt.show()"
   ]
  },
  {
   "cell_type": "markdown",
   "metadata": {},
   "source": [
    "### <center><span style=\"color:blue\">Como mostrado no gráfico, o sistema possui infinitas solucoes.</span><br/></center>"
   ]
  },
  {
   "cell_type": "markdown",
   "metadata": {},
   "source": [
    "# <center><span style=\"color:green\">**Exercicio 03 - descobrindo valor de d**</span><br/></center>"
   ]
  },
  {
   "cell_type": "code",
   "execution_count": null,
   "metadata": {},
   "outputs": [],
   "source": [
    "d = symbols('d')\n",
    "k1, k2, m, g, h = 40000, 40, 95, 9.81, 0.43 \n",
    "f = -(k1 * d + k2 * d ** (3/2))\n",
    "energy_conservation = (2 * k2 * d ** (5/2))/5 + (1/2) * k1 * d ** 2 - m *g * d - m * g *h\n",
    "print(\"Equacao:\")\n",
    "energy_conservation\n"
   ]
  },
  {
   "cell_type": "code",
   "execution_count": null,
   "metadata": {},
   "outputs": [],
   "source": [
    "t = symbols('t')\n",
    "f = (0.4 * t - t**3 + 0.141)\n",
    "solved_equation = solve(f)\n",
    "print(\"Os valores de t para que a matriz seja singular são:\")\n",
    "solved_equation"
   ]
  },
  {
   "cell_type": "code",
   "execution_count": null,
   "metadata": {},
   "outputs": [],
   "source": [
    "print(\"Com a aproximacao inicial de d = 0.4, o valor de d, em metros, é igual a:\")\n",
    "nsolve(energy_conservation,0.4)"
   ]
  }
 ],
 "metadata": {
  "interpreter": {
   "hash": "744e24d0957d42ad7b50819cc35ccf6cbf1ffdc9fa43baec5a1b56cdf1a86f6e"
  },
  "kernelspec": {
   "display_name": "Python 3.9.7 64-bit",
   "name": "python3"
  },
  "language_info": {
   "codemirror_mode": {
    "name": "ipython",
    "version": 3
   },
   "file_extension": ".py",
   "mimetype": "text/x-python",
   "name": "python",
   "nbconvert_exporter": "python",
   "pygments_lexer": "ipython3",
   "version": "3.9.7"
  },
  "orig_nbformat": 4
 },
 "nbformat": 4,
 "nbformat_minor": 2
}
