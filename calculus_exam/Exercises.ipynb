{
 "cells": [
  {
   "cell_type": "markdown",
   "metadata": {},
   "source": [
    "# <center><span style=\"color:red\">Cálculo Numérico - Avaliação - 01</span><br/></center>\n"
   ]
  },
  {
   "cell_type": "markdown",
   "metadata": {},
   "source": [
    "## <center><span style=\"color:green\">Exercício  00</span><br/></center>\n"
   ]
  },
  {
   "cell_type": "code",
   "execution_count": null,
   "metadata": {},
   "outputs": [],
   "source": [
    "!pip install -r requirements.txt"
   ]
  },
  {
   "cell_type": "code",
   "execution_count": 2,
   "metadata": {},
   "outputs": [],
   "source": [
    "from fractions import Fraction\n",
    "import math\n",
    "from sympy import *\n",
    "import numpy as np\n",
    "import matplotlib.pyplot as plt"
   ]
  },
  {
   "cell_type": "markdown",
   "metadata": {},
   "source": [
    "### <center><span style=\"color:blue\">Calculando matriz de Hilbert de ordem 4</span><br/></center>"
   ]
  },
  {
   "cell_type": "code",
   "execution_count": 3,
   "metadata": {},
   "outputs": [
    {
     "name": "stdout",
     "output_type": "stream",
     "text": [
      "Matriz de Hilbert ordem 4:\n"
     ]
    },
    {
     "data": {
      "text/plain": [
       "[['1', '1/2', '1/3', '1/4'],\n",
       " ['1/2', '1/3', '1/4', '1/5'],\n",
       " ['1/3', '1/4', '1/5', '1/6'],\n",
       " ['1/4', '1/5', '1/6', '1/7']]"
      ]
     },
     "execution_count": 3,
     "metadata": {},
     "output_type": "execute_result"
    }
   ],
   "source": [
    "def Hilbert_matrix_string(a, b):\n",
    "    return [[str(Fraction(1 / (i + j + 1)).limit_denominator()) for j in range(b)] for i in range(a)]\n",
    "\n",
    "Hilbert_order_4_matrix = Hilbert_matrix_string(4,4)\n",
    "print(\"Matriz de Hilbert ordem 4:\")\n",
    "Hilbert_order_4_matrix"
   ]
  },
  {
   "cell_type": "markdown",
   "metadata": {},
   "source": [
    "### <center><span style=\"color:blue\">Calculando matriz inversa</span><br/></center>"
   ]
  },
  {
   "cell_type": "code",
   "execution_count": 4,
   "metadata": {},
   "outputs": [
    {
     "name": "stdout",
     "output_type": "stream",
     "text": [
      "\n",
      "\n",
      "Matriz inversa de Hilbert de ordem 4:\n"
     ]
    },
    {
     "data": {
      "text/plain": [
       "array([[   16.,  -120.,   240.,  -140.],\n",
       "       [ -120.,  1200., -2700.,  1680.],\n",
       "       [  240., -2700.,  6480., -4200.],\n",
       "       [ -140.,  1680., -4200.,  2800.]])"
      ]
     },
     "execution_count": 4,
     "metadata": {},
     "output_type": "execute_result"
    }
   ],
   "source": [
    "def Hilbert_matrix_array(a, b):\n",
    "    return np.array([[Fraction(1 / (i + j + 1)).limit_denominator() for j in range(b)] for i in range(a)])\n",
    "\n",
    "hilbert_matrix_array_order_4 = Hilbert_matrix_array(4,4).astype('float64')\n",
    "Hilbert_inverse_matrix_array_order_4 = np.linalg.inv(hilbert_matrix_array_order_4)\n",
    "print(\"\\n\\nMatriz inversa de Hilbert de ordem 4:\")\n",
    "Hilbert_inverse_matrix_array_order_4"
   ]
  },
  {
   "cell_type": "markdown",
   "metadata": {},
   "source": [
    "### <center><span style=\"color:blue\">Descrevendo vetor solução usando pinv (pseudo-inverse) function</span><br/></center>"
   ]
  },
  {
   "cell_type": "code",
   "execution_count": 5,
   "metadata": {},
   "outputs": [
    {
     "name": "stdout",
     "output_type": "stream",
     "text": [
      "O vetor solucao é dado por:\n"
     ]
    },
    {
     "data": {
      "text/plain": [
       "[-11719.999999997157,\n",
       " 142199.99999996758,\n",
       " -357899.99999992223,\n",
       " 239679.9999999497]"
      ]
     },
     "execution_count": 5,
     "metadata": {},
     "output_type": "execute_result"
    }
   ],
   "source": [
    "pinv = np.linalg.pinv(hilbert_matrix_array_order_4)\n",
    "b = [0 ,1, 10, 100]\n",
    "solution_vector = pinv.dot(b)\n",
    "print(\"O vetor solucao é dado por:\")\n",
    "solution_vector.tolist()"
   ]
  },
  {
   "cell_type": "markdown",
   "metadata": {},
   "source": [
    "## <center><span style=\"color:green\">Exercício 01 - Parte a: Calculando xm para altura máxima</span><br/></center>"
   ]
  },
  {
   "cell_type": "code",
   "execution_count": 6,
   "metadata": {},
   "outputs": [
    {
     "name": "stdout",
     "output_type": "stream",
     "text": [
      "Equacao:\n"
     ]
    },
    {
     "data": {
      "text/latex": [
       "$\\displaystyle - 52.32 x + 672.373333333333 - 572.373333333333 e^{- 0.1875 x}$"
      ],
      "text/plain": [
       "-52.32*x + 672.373333333333 - 572.373333333333*exp(-0.1875*x)"
      ]
     },
     "execution_count": 6,
     "metadata": {},
     "output_type": "execute_result"
    }
   ],
   "source": [
    "x = symbols('x')\n",
    "\n",
    "g, y0, v0, m, c = 9.81, 100, 55, 80, 15\n",
    "y = y0 + (m / c) * (v0 + ((m * g) / c)) * (1 - exp(- (c / m) * x)) - ((m * g) / c) * x\n",
    "print('Equacao:')\n",
    "y"
   ]
  },
  {
   "cell_type": "markdown",
   "metadata": {},
   "source": [
    "## Altura maxima de xm é dada para y'(x) = 0"
   ]
  },
  {
   "cell_type": "code",
   "execution_count": 7,
   "metadata": {},
   "outputs": [
    {
     "name": "stdout",
     "output_type": "stream",
     "text": [
      "y(x)' =  -52.32 + 107.32*exp(-0.1875*x)\n",
      "Calculando y(x)'= 0, resulta em xm, em metros, com o valor de\n"
     ]
    },
    {
     "data": {
      "text/latex": [
       "$\\displaystyle 3.83166036484523$"
      ],
      "text/plain": [
       "3.83166036484523"
      ]
     },
     "execution_count": 7,
     "metadata": {},
     "output_type": "execute_result"
    }
   ],
   "source": [
    "y_diff = diff(y)\n",
    "print(\"y(x)' = \", y_diff)\n",
    "print(\"Calculando y(x)'= 0, resulta em xm, em metros, com o valor de\")\n",
    "solve(y_diff)[0]"
   ]
  },
  {
   "cell_type": "markdown",
   "metadata": {},
   "source": [
    "## <center><span style=\"color:green\">Parte B - Calculando x para y(x) = 0</span><br/></center>"
   ]
  },
  {
   "cell_type": "code",
   "execution_count": 8,
   "metadata": {},
   "outputs": [
    {
     "name": "stdout",
     "output_type": "stream",
     "text": [
      "Valor de y(x) = 0: \n"
     ]
    },
    {
     "data": {
      "text/latex": [
       "$\\displaystyle 11.610838471061$"
      ],
      "text/plain": [
       "11.6108384710610"
      ]
     },
     "execution_count": 8,
     "metadata": {},
     "output_type": "execute_result"
    }
   ],
   "source": [
    "print(\"Valor de y(x) = 0: \")\n",
    "solve(y, rational = False)[0]"
   ]
  },
  {
   "cell_type": "markdown",
   "metadata": {},
   "source": [
    "### <center><span style=\"color:blue\">O processo deve ser iterativo, pois a equacao -52.32 * x + 672.373333333333 - 572.373333333333 * exp(-0.1875 * x) = 0 nao possui uma fórmula simples para resolucao da equacao.</span><br/></center>"
   ]
  },
  {
   "cell_type": "code",
   "execution_count": 9,
   "metadata": {},
   "outputs": [],
   "source": [
    "def Jacobian(v_str, f_list):\n",
    "    vars = symbols(v_str)\n",
    "    f = sympify(f_list)\n",
    "    J = zeros(len(f),len(vars))\n",
    "    for i, fi in enumerate(f):\n",
    "        for j, s in enumerate(vars):\n",
    "            J[i,j] = diff(fi, s)\n",
    "    return J"
   ]
  },
  {
   "cell_type": "markdown",
   "metadata": {},
   "source": [
    "## <center><span style=\"color:green\">Exercicio 02 parte a - Resolvendo o primeiro sistema de equacoes</span><br/></center>"
   ]
  },
  {
   "cell_type": "code",
   "execution_count": 10,
   "metadata": {},
   "outputs": [
    {
     "name": "stdout",
     "output_type": "stream",
     "text": [
      "Usando como chute inicial o par (I,I), pois a equacao nao possui solucoes reais, por conta de x² + y² = 0 possuir solucoes complexas, a solucao é dada por:\n"
     ]
    },
    {
     "data": {
      "text/latex": [
       "$\\displaystyle \\left[\\begin{matrix}-0.374699020737117 + 0.576412723031435 i\\\\0.576412723031435 + 0.374699020737117 i\\end{matrix}\\right]$"
      ],
      "text/plain": [
       "Matrix([\n",
       "[-0.374699020737117 + 0.576412723031435*I],\n",
       "[ 0.576412723031435 + 0.374699020737117*I]])"
      ]
     },
     "execution_count": 10,
     "metadata": {},
     "output_type": "execute_result"
    }
   ],
   "source": [
    "x, y = symbols('x y')\n",
    "f1 = x**2 + y**2\n",
    "f2 = -exp(x) + y\n",
    "print(\"Usando como chute inicial o par (I,I), pois a equacao nao possui solucoes reais, por conta de x² + y² = 0 possuir solucoes complexas, a solucao é dada por:\")\n",
    "nsolve((f1, f2), (x, y), (I, I))\n"
   ]
  },
  {
   "cell_type": "code",
   "execution_count": 11,
   "metadata": {},
   "outputs": [
    {
     "name": "stdout",
     "output_type": "stream",
     "text": [
      "Matriz Jacobiana do sistema:\n"
     ]
    },
    {
     "data": {
      "text/latex": [
       "$\\displaystyle \\left[\\begin{matrix}2 x & 2 y\\\\- e^{x} & 1\\end{matrix}\\right]$"
      ],
      "text/plain": [
       "Matrix([\n",
       "[    2*x, 2*y],\n",
       "[-exp(x),   1]])"
      ]
     },
     "execution_count": 11,
     "metadata": {},
     "output_type": "execute_result"
    }
   ],
   "source": [
    "print(\"Matriz Jacobiana do sistema:\")\n",
    "Jacobian('x y',['x**2 + y**2', '-exp(x) + y'])"
   ]
  },
  {
   "cell_type": "code",
   "execution_count": 12,
   "metadata": {},
   "outputs": [
    {
     "data": {
      "image/png": "[encoded data removed]",
      "text/plain": [
       "<Figure size 432x288 with 1 Axes>"
      ]
     },
     "metadata": {
      "needs_background": "light"
     },
     "output_type": "display_data"
    }
   ],
   "source": [
    "x = [1,2,3,4]\n",
    "\n",
    "y = [1, -1.33,-2.77,-3.233]\n",
    " \n",
    "plt.plot(x, y)\n",
    " \n",
    "plt.xlabel('Iteracoes')\n",
    "\n",
    "plt.ylabel('Valores da raíz')\n",
    " \n",
    "plt.title('Gráfico relacionando vetor solucao x X i')\n",
    "\n",
    "plt.show()"
   ]
  },
  {
   "cell_type": "markdown",
   "metadata": {},
   "source": [
    "## <center><span style=\"color:green\">Exercicio 02 parte b - Mostrando que o segundo sistema de equacoes possui infinitas solucoes</span><br/></center>"
   ]
  },
  {
   "cell_type": "code",
   "execution_count": 13,
   "metadata": {},
   "outputs": [
    {
     "name": "stdout",
     "output_type": "stream",
     "text": [
      "Matriz Jacobiana do sistema:\n"
     ]
    },
    {
     "data": {
      "text/latex": [
       "$\\displaystyle \\left[\\begin{matrix}- e^{x} & 1\\\\- \\cos{\\left(x \\right)} & 1\\end{matrix}\\right]$"
      ],
      "text/plain": [
       "Matrix([\n",
       "[-exp(x), 1],\n",
       "[-cos(x), 1]])"
      ]
     },
     "execution_count": 13,
     "metadata": {},
     "output_type": "execute_result"
    }
   ],
   "source": [
    "print(\"Matriz Jacobiana do sistema:\")\n",
    "jacobian_matrix = Jacobian('x y', ['-exp(x) + y','-sin(x) + y'])\n",
    "jacobian_matrix"
   ]
  },
  {
   "cell_type": "code",
   "execution_count": 14,
   "metadata": {},
   "outputs": [
    {
     "data": {
      "image/png": "[encoded data removed]",
      "text/plain": [
       "<Figure size 432x288 with 1 Axes>"
      ]
     },
     "metadata": {
      "needs_background": "light"
     },
     "output_type": "display_data"
    }
   ],
   "source": [
    "delta = 0.025\n",
    "x, y = np.meshgrid(np.arange(-50, 4, delta),np.arange(-1, 1, delta))\n",
    "\n",
    "plt.contour(x, y,- np.sin(x) + y, [0]\n",
    ")\n",
    "plt.contour(x, y, -np.exp(x) + y, [0])\n",
    "plt.show()"
   ]
  },
  {
   "cell_type": "markdown",
   "metadata": {},
   "source": [
    "### <center><span style=\"color:blue\">Como mostrado no gráfico, o sistema possui infinitas solucoes.</span><br/></center>"
   ]
  },
  {
   "cell_type": "markdown",
   "metadata": {},
   "source": [
    "## <center><span style=\"color:green\">Exercicio 03 - descobrindo valor de d</span><br/></center>"
   ]
  },
  {
   "cell_type": "code",
   "execution_count": 15,
   "metadata": {},
   "outputs": [
    {
     "name": "stdout",
     "output_type": "stream",
     "text": [
      "Equacao:\n"
     ]
    },
    {
     "data": {
      "text/latex": [
       "$\\displaystyle 20000.0 d^{2} - 931.95 d + 16 d^{2.5} - 400.7385$"
      ],
      "text/plain": [
       "20000.0*d**2 - 931.95*d + 16*d**2.5 - 400.7385"
      ]
     },
     "execution_count": 15,
     "metadata": {},
     "output_type": "execute_result"
    }
   ],
   "source": [
    "d = symbols('d')\n",
    "k1, k2, m, g, h = 40000, 40, 95, 9.81, 0.43 \n",
    "f = -(k1 * d + k2 * d ** (3/2))\n",
    "energy_conservation = (2 * k2 * d ** (5/2))/5 + (1/2) * k1 * d ** 2 - m *g * d - m * g *h\n",
    "print(\"Equacao:\")\n",
    "energy_conservation\n"
   ]
  },
  {
   "cell_type": "code",
   "execution_count": 16,
   "metadata": {},
   "outputs": [
    {
     "name": "stdout",
     "output_type": "stream",
     "text": [
      "Com a aproximacao inicial de d = 0.4, o valor de d, em metros, é igual a:\n"
     ]
    },
    {
     "data": {
      "text/latex": [
       "$\\displaystyle 0.166723562437785$"
      ],
      "text/plain": [
       "0.166723562437785"
      ]
     },
     "execution_count": 16,
     "metadata": {},
     "output_type": "execute_result"
    }
   ],
   "source": [
    "print(\"Com a aproximacao inicial de d = 0.4, o valor de d, em metros, é igual a:\")\n",
    "nsolve(energy_conservation,0.4)"
   ]
  }
 ],
 "metadata": {
  "interpreter": {
   "hash": "e7370f93d1d0cde622a1f8e1c04877d8463912d04d973331ad4851f04de6915a"
  },
  "kernelspec": {
   "display_name": "Python 3.8.10 64-bit",
   "name": "python3"
  },
  "language_info": {
   "codemirror_mode": {
    "name": "ipython",
    "version": 3
   },
   "file_extension": ".py",
   "mimetype": "text/x-python",
   "name": "python",
   "nbconvert_exporter": "python",
   "pygments_lexer": "ipython3",
   "version": "3.8.10"
  },
  "orig_nbformat": 4
 },
 "nbformat": 4,
 "nbformat_minor": 2
}
