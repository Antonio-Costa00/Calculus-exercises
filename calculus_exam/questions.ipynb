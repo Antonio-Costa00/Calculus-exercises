{
 "cells": [
  {
   "cell_type": "markdown",
   "source": [
    "# Cálculo Numérico - Avaliação - 01\n"
   ],
   "metadata": {}
  },
  {
   "cell_type": "markdown",
   "source": [
    "## Exercícıcio 0"
   ],
   "metadata": {}
  },
  {
   "cell_type": "markdown",
   "source": [
    "### Calculando matriz de Hilbert de ordem 4"
   ],
   "metadata": {}
  },
  {
   "cell_type": "code",
   "execution_count": 61,
   "source": [
    "from fractions import Fraction\n",
    "from pprint import pprint\n",
    "import numpy as np\n",
    "\n",
    "def Hilbert_matrix_string(a, b):\n",
    "    return [[str(Fraction(1 / (i + j + 1)).limit_denominator()) for j in range(b)] for i in range(a)]\n",
    "\n",
    "print(\"Matriz de Hilbert ordem 4:\")\n",
    "Hilbert_order_4_matrix = Hilbert_matrix_string(4,4)\n",
    "Hilbert_order_4_matrix\n"
   ],
   "outputs": [
    {
     "output_type": "stream",
     "name": "stdout",
     "text": [
      "Matriz de Hilbert ordem 4:\n"
     ]
    },
    {
     "output_type": "execute_result",
     "data": {
      "text/plain": [
       "[['1', '1/2', '1/3', '1/4'],\n",
       " ['1/2', '1/3', '1/4', '1/5'],\n",
       " ['1/3', '1/4', '1/5', '1/6'],\n",
       " ['1/4', '1/5', '1/6', '1/7']]"
      ]
     },
     "metadata": {},
     "execution_count": 61
    }
   ],
   "metadata": {}
  },
  {
   "cell_type": "markdown",
   "source": [
    "### Calculando matriz inversa"
   ],
   "metadata": {}
  },
  {
   "cell_type": "code",
   "execution_count": 62,
   "source": [
    "def Hilbert_matrix_array(a, b):\n",
    "    return np.array([[Fraction(1 / (i + j + 1)).limit_denominator() for j in range(b)] for i in range(a)])\n",
    "\n",
    "Hilbert_matrix_array_order_4 = Hilbert_matrix_array(4,4).astype('float64')\n",
    "Hilbert_inverse_matrix_array_order_4 = np.linalg.inv(Hilbert_matrix_array_order_4)\n",
    "print(\"Matriz inversa de Hilbert de ordem 4:\")\n",
    "Hilbert_inverse_matrix_array_order_4"
   ],
   "outputs": [
    {
     "output_type": "stream",
     "name": "stdout",
     "text": [
      "Matriz inversa de Hilbert de ordem 4:\n"
     ]
    },
    {
     "output_type": "execute_result",
     "data": {
      "text/plain": [
       "array([[   16.,  -120.,   240.,  -140.],\n",
       "       [ -120.,  1200., -2700.,  1680.],\n",
       "       [  240., -2700.,  6480., -4200.],\n",
       "       [ -140.,  1680., -4200.,  2800.]])"
      ]
     },
     "metadata": {},
     "execution_count": 62
    }
   ],
   "metadata": {}
  },
  {
   "cell_type": "markdown",
   "source": [
    "### Descrevendo vetor solução"
   ],
   "metadata": {}
  },
  {
   "cell_type": "code",
   "execution_count": null,
   "source": [],
   "outputs": [],
   "metadata": {}
  }
 ],
 "metadata": {
  "orig_nbformat": 4,
  "language_info": {
   "name": "python",
   "version": "3.8.10",
   "mimetype": "text/x-python",
   "codemirror_mode": {
    "name": "ipython",
    "version": 3
   },
   "pygments_lexer": "ipython3",
   "nbconvert_exporter": "python",
   "file_extension": ".py"
  },
  "kernelspec": {
   "name": "python3",
   "display_name": "Python 3.8.10 64-bit"
  },
  "interpreter": {
   "hash": "e7370f93d1d0cde622a1f8e1c04877d8463912d04d973331ad4851f04de6915a"
  }
 },
 "nbformat": 4,
 "nbformat_minor": 2
}